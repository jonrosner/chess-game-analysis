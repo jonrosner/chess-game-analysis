{
 "cells": [
  {
   "cell_type": "markdown",
   "metadata": {},
   "source": [
    "# summary statistics and opening analysis"
   ]
  },
  {
   "cell_type": "code",
   "execution_count": 2,
   "metadata": {},
   "outputs": [],
   "source": [
    "#adding notebook to github project\n",
    "import pandas as pd\n",
    "import matplotlib.pyplot as plt\n",
    "import seaborn as sns\n",
    "import numpy as np"
   ]
  },
  {
   "cell_type": "code",
   "execution_count": 3,
   "metadata": {},
   "outputs": [
    {
     "data": {
      "text/html": [
       "<div>\n",
       "<style scoped>\n",
       "    .dataframe tbody tr th:only-of-type {\n",
       "        vertical-align: middle;\n",
       "    }\n",
       "\n",
       "    .dataframe tbody tr th {\n",
       "        vertical-align: top;\n",
       "    }\n",
       "\n",
       "    .dataframe thead th {\n",
       "        text-align: right;\n",
       "    }\n",
       "</style>\n",
       "<table border=\"1\" class=\"dataframe\">\n",
       "  <thead>\n",
       "    <tr style=\"text-align: right;\">\n",
       "      <th></th>\n",
       "      <th>created_at</th>\n",
       "      <th>last_move_at</th>\n",
       "      <th>turns</th>\n",
       "      <th>white_rating</th>\n",
       "      <th>black_rating</th>\n",
       "      <th>opening_ply</th>\n",
       "    </tr>\n",
       "  </thead>\n",
       "  <tbody>\n",
       "    <tr>\n",
       "      <th>count</th>\n",
       "      <td>2.005800e+04</td>\n",
       "      <td>2.005800e+04</td>\n",
       "      <td>20058.000000</td>\n",
       "      <td>20058.000000</td>\n",
       "      <td>20058.000000</td>\n",
       "      <td>20058.000000</td>\n",
       "    </tr>\n",
       "    <tr>\n",
       "      <th>mean</th>\n",
       "      <td>1.483617e+12</td>\n",
       "      <td>1.483618e+12</td>\n",
       "      <td>60.465999</td>\n",
       "      <td>1596.631868</td>\n",
       "      <td>1588.831987</td>\n",
       "      <td>4.816981</td>\n",
       "    </tr>\n",
       "    <tr>\n",
       "      <th>std</th>\n",
       "      <td>2.850151e+10</td>\n",
       "      <td>2.850140e+10</td>\n",
       "      <td>33.570585</td>\n",
       "      <td>291.253376</td>\n",
       "      <td>291.036126</td>\n",
       "      <td>2.797152</td>\n",
       "    </tr>\n",
       "    <tr>\n",
       "      <th>min</th>\n",
       "      <td>1.376772e+12</td>\n",
       "      <td>1.376772e+12</td>\n",
       "      <td>1.000000</td>\n",
       "      <td>784.000000</td>\n",
       "      <td>789.000000</td>\n",
       "      <td>1.000000</td>\n",
       "    </tr>\n",
       "    <tr>\n",
       "      <th>25%</th>\n",
       "      <td>1.477548e+12</td>\n",
       "      <td>1.477548e+12</td>\n",
       "      <td>37.000000</td>\n",
       "      <td>1398.000000</td>\n",
       "      <td>1391.000000</td>\n",
       "      <td>3.000000</td>\n",
       "    </tr>\n",
       "    <tr>\n",
       "      <th>50%</th>\n",
       "      <td>1.496010e+12</td>\n",
       "      <td>1.496010e+12</td>\n",
       "      <td>55.000000</td>\n",
       "      <td>1567.000000</td>\n",
       "      <td>1562.000000</td>\n",
       "      <td>4.000000</td>\n",
       "    </tr>\n",
       "    <tr>\n",
       "      <th>75%</th>\n",
       "      <td>1.503170e+12</td>\n",
       "      <td>1.503170e+12</td>\n",
       "      <td>79.000000</td>\n",
       "      <td>1793.000000</td>\n",
       "      <td>1784.000000</td>\n",
       "      <td>6.000000</td>\n",
       "    </tr>\n",
       "    <tr>\n",
       "      <th>max</th>\n",
       "      <td>1.504493e+12</td>\n",
       "      <td>1.504494e+12</td>\n",
       "      <td>349.000000</td>\n",
       "      <td>2700.000000</td>\n",
       "      <td>2723.000000</td>\n",
       "      <td>28.000000</td>\n",
       "    </tr>\n",
       "  </tbody>\n",
       "</table>\n",
       "</div>"
      ],
      "text/plain": [
       "         created_at  last_move_at         turns  white_rating  black_rating  \\\n",
       "count  2.005800e+04  2.005800e+04  20058.000000  20058.000000  20058.000000   \n",
       "mean   1.483617e+12  1.483618e+12     60.465999   1596.631868   1588.831987   \n",
       "std    2.850151e+10  2.850140e+10     33.570585    291.253376    291.036126   \n",
       "min    1.376772e+12  1.376772e+12      1.000000    784.000000    789.000000   \n",
       "25%    1.477548e+12  1.477548e+12     37.000000   1398.000000   1391.000000   \n",
       "50%    1.496010e+12  1.496010e+12     55.000000   1567.000000   1562.000000   \n",
       "75%    1.503170e+12  1.503170e+12     79.000000   1793.000000   1784.000000   \n",
       "max    1.504493e+12  1.504494e+12    349.000000   2700.000000   2723.000000   \n",
       "\n",
       "        opening_ply  \n",
       "count  20058.000000  \n",
       "mean       4.816981  \n",
       "std        2.797152  \n",
       "min        1.000000  \n",
       "25%        3.000000  \n",
       "50%        4.000000  \n",
       "75%        6.000000  \n",
       "max       28.000000  "
      ]
     },
     "execution_count": 3,
     "metadata": {},
     "output_type": "execute_result"
    }
   ],
   "source": [
    "df = pd.read_csv('games.csv')\n",
    "df.head()\n",
    "df.dtypes\n",
    "df.describe()"
   ]
  },
  {
   "cell_type": "code",
   "execution_count": 4,
   "metadata": {},
   "outputs": [
    {
     "data": {
      "text/plain": [
       "id                0\n",
       "rated             0\n",
       "created_at        0\n",
       "last_move_at      0\n",
       "turns             0\n",
       "victory_status    0\n",
       "winner            0\n",
       "increment_code    0\n",
       "white_id          0\n",
       "white_rating      0\n",
       "black_id          0\n",
       "black_rating      0\n",
       "moves             0\n",
       "opening_eco       0\n",
       "opening_name      0\n",
       "opening_ply       0\n",
       "dtype: int64"
      ]
     },
     "execution_count": 4,
     "metadata": {},
     "output_type": "execute_result"
    }
   ],
   "source": [
    "#no columns containing na values\n",
    "df.isna().sum()"
   ]
  },
  {
   "cell_type": "code",
   "execution_count": 5,
   "metadata": {},
   "outputs": [
    {
     "data": {
      "text/plain": [
       "Index(['id', 'rated', 'created_at', 'last_move_at', 'turns', 'victory_status',\n",
       "       'winner', 'increment_code', 'white_id', 'white_rating', 'black_id',\n",
       "       'black_rating', 'moves', 'opening_eco', 'opening_name', 'opening_ply'],\n",
       "      dtype='object')"
      ]
     },
     "execution_count": 5,
     "metadata": {},
     "output_type": "execute_result"
    }
   ],
   "source": [
    "df.columns"
   ]
  },
  {
   "cell_type": "code",
   "execution_count": 6,
   "metadata": {},
   "outputs": [],
   "source": [
    "#drop --> moves\n",
    "df.drop(['moves'], axis=1, inplace=True)\n",
    "#opening_ply = number of moves in opening \n",
    "#increment code https://chess.stackexchange.com/questions/18069/what-is-the-increment-in-chess#:~:text=On%20chess%20servers%20(like%20Internet,amount%20added%20after%20each%20move."
   ]
  },
  {
   "cell_type": "code",
   "execution_count": 7,
   "metadata": {},
   "outputs": [
    {
     "data": {
      "text/plain": [
       "0.0           8548\n",
       "10000000.0     734\n",
       "496879.0         3\n",
       "25867.0          3\n",
       "1816187.0        3\n",
       "              ... \n",
       "518592.0         1\n",
       "783416.0         1\n",
       "709501.0         1\n",
       "193759.0         1\n",
       "3603429.0        1\n",
       "Name: duration, Length: 10327, dtype: int64"
      ]
     },
     "execution_count": 7,
     "metadata": {},
     "output_type": "execute_result"
    }
   ],
   "source": [
    "#convert created and last move at to duration\n",
    "df['duration'] = df['last_move_at'] - df['created_at']\n",
    "df['duration'].value_counts()\n",
    "#there are some games that have a duration of 0 but still have many moves in them. what happened here?"
   ]
  },
  {
   "cell_type": "code",
   "execution_count": 8,
   "metadata": {},
   "outputs": [
    {
     "name": "stdout",
     "output_type": "stream",
     "text": [
      "opening eco: 365\n",
      "opening name: 1477\n"
     ]
    }
   ],
   "source": [
    "#how many unique openings are there\n",
    "opening_eco = df['opening_eco'].nunique()\n",
    "opening_name = df['opening_name'].nunique()\n",
    "print('opening eco:',opening_eco)\n",
    "print('opening name:',opening_name)\n",
    "#weird - there are way more distinct opening names than opening ecos --> could this be misspelling?\n",
    "#there are different variations of openings that are often mapped to the same opening_eco \n",
    "#for instance Ruy Lopez: Berlin Defense #2 is mapped to C65 and Ruy Lopez: Berlin Defense |  Beverwijk Variation is also mapped to C65\n",
    "#because of this i think that opening name actually provides more information"
   ]
  },
  {
   "cell_type": "code",
   "execution_count": 9,
   "metadata": {},
   "outputs": [
    {
     "data": {
      "text/plain": [
       "Van't Kruijs Opening                             368\n",
       "Sicilian Defense                                 358\n",
       "Sicilian Defense: Bowdler Attack                 296\n",
       "French Defense: Knight Variation                 271\n",
       "Scotch Game                                      271\n",
       "Scandinavian Defense: Mieses-Kotroc Variation    259\n",
       "Queen's Pawn Game: Mason Attack                  232\n",
       "Queen's Pawn Game: Chigorin Variation            229\n",
       "Scandinavian Defense                             223\n",
       "Horwitz Defense                                  209\n",
       "Caro-Kann Defense                                199\n",
       "Philidor Defense #3                              198\n",
       "Philidor Defense #2                              193\n",
       "Indian Game                                      181\n",
       "Italian Game: Anti-Fried Liver Defense           180\n",
       "Four Knights Game: Italian Variation             176\n",
       "Modern Defense                                   174\n",
       "Owen Defense                                     168\n",
       "King's Pawn Game: Wayward Queen Attack           164\n",
       "Sicilian Defense: Old Sicilian                   159\n",
       "King's Pawn Game: Leonardis Variation            154\n",
       "Name: opening_name, dtype: int64"
      ]
     },
     "execution_count": 9,
     "metadata": {},
     "output_type": "execute_result"
    }
   ],
   "source": [
    "opening_name_counts = df['opening_name'].value_counts()\n",
    "opening_name_counts[0:21]"
   ]
  },
  {
   "cell_type": "code",
   "execution_count": 10,
   "metadata": {
    "scrolled": false
   },
   "outputs": [
    {
     "data": {
      "image/png": "[encoded data removed]",
      "text/plain": [
       "<Figure size 432x288 with 1 Axes>"
      ]
     },
     "metadata": {
      "needs_background": "light"
     },
     "output_type": "display_data"
    }
   ],
   "source": [
    "opening_plots_bar = opening_name_counts[0:21].plot.barh(x = 'opening', y = 'count').invert_yaxis()"
   ]
  },
  {
   "cell_type": "code",
   "execution_count": 11,
   "metadata": {},
   "outputs": [
    {
     "data": {
      "image/png": "[encoded data removed]",
      "text/plain": [
       "<Figure size 432x288 with 1 Axes>"
      ]
     },
     "metadata": {
      "needs_background": "light"
     },
     "output_type": "display_data"
    }
   ],
   "source": [
    "df['victory_status'].value_counts().plot.barh().invert_yaxis()"
   ]
  },
  {
   "cell_type": "code",
   "execution_count": 12,
   "metadata": {},
   "outputs": [
    {
     "data": {
      "image/png": "[encoded data removed]",
      "text/plain": [
       "<Figure size 432x288 with 1 Axes>"
      ]
     },
     "metadata": {
      "needs_background": "light"
     },
     "output_type": "display_data"
    }
   ],
   "source": [
    "df['winner'].value_counts().plot.barh().invert_yaxis()"
   ]
  },
  {
   "cell_type": "code",
   "execution_count": 13,
   "metadata": {},
   "outputs": [],
   "source": [
    "#dummy variables for black_win and white_win\n",
    "dummy_winner = pd.get_dummies(df['winner'])\n",
    "dummy_winner\n",
    "df = pd.concat([df, dummy_winner], axis = 1)"
   ]
  },
  {
   "cell_type": "code",
   "execution_count": 14,
   "metadata": {},
   "outputs": [
    {
     "data": {
      "image/png": "[encoded data removed]",
      "text/plain": [
       "<Figure size 432x288 with 1 Axes>"
      ]
     },
     "metadata": {
      "needs_background": "light"
     },
     "output_type": "display_data"
    }
   ],
   "source": [
    "black_wins = df.loc[df['black'] == 1]\n",
    "black_wins_counts = black_wins['opening_name'].value_counts()\n",
    "black_wins_counts[0:11].plot.barh().invert_yaxis()"
   ]
  },
  {
   "cell_type": "code",
   "execution_count": 15,
   "metadata": {},
   "outputs": [
    {
     "data": {
      "image/png": "[encoded data removed]",
      "text/plain": [
       "<Figure size 432x288 with 1 Axes>"
      ]
     },
     "metadata": {
      "needs_background": "light"
     },
     "output_type": "display_data"
    }
   ],
   "source": [
    "white_wins = df.loc[df['white'] == 1]\n",
    "white_wins_counts = white_wins['opening_name'].value_counts()\n",
    "white_wins_counts[0:11].plot.barh().invert_yaxis()"
   ]
  },
  {
   "cell_type": "code",
   "execution_count": 16,
   "metadata": {},
   "outputs": [
    {
     "data": {
      "image/png": "[encoded data removed]",
      "text/plain": [
       "<Figure size 432x288 with 1 Axes>"
      ]
     },
     "metadata": {
      "needs_background": "light"
     },
     "output_type": "display_data"
    }
   ],
   "source": [
    "draw = df.loc[df['draw'] == 1]\n",
    "draw_counts = draw['opening_name'].value_counts()\n",
    "draw_counts[0:11].plot.barh().invert_yaxis()"
   ]
  },
  {
   "cell_type": "code",
   "execution_count": 17,
   "metadata": {},
   "outputs": [
    {
     "data": {
      "text/plain": [
       "0.6411036920659858"
      ]
     },
     "execution_count": 17,
     "metadata": {},
     "output_type": "execute_result"
    }
   ],
   "source": [
    "white_better_than_black = df.loc[df['white_rating'] > df['black_rating']]\n",
    "white_better_than_black\n",
    "#10184\n",
    "white_better_than_black['white'].value_counts()\n",
    "wbtb_perc_white_win = 6529/10184\n",
    "wbtb_perc_white_win"
   ]
  },
  {
   "cell_type": "code",
   "execution_count": 18,
   "metadata": {},
   "outputs": [
    {
     "data": {
      "text/plain": [
       "0.6021093992348258"
      ]
     },
     "execution_count": 18,
     "metadata": {},
     "output_type": "execute_result"
    }
   ],
   "source": [
    "black_better_than_white = df.loc[df['black_rating'] > df['white_rating']]\n",
    "black_better_than_white\n",
    "#9671\n",
    "black_better_than_white['black'].value_counts()\n",
    "#5823\n",
    "bbtw_perc_black_win = 5823/9671\n",
    "bbtw_perc_black_win"
   ]
  },
  {
   "cell_type": "code",
   "execution_count": 19,
   "metadata": {},
   "outputs": [
    {
     "data": {
      "text/html": [
       "<div>\n",
       "<style scoped>\n",
       "    .dataframe tbody tr th:only-of-type {\n",
       "        vertical-align: middle;\n",
       "    }\n",
       "\n",
       "    .dataframe tbody tr th {\n",
       "        vertical-align: top;\n",
       "    }\n",
       "\n",
       "    .dataframe thead th {\n",
       "        text-align: right;\n",
       "    }\n",
       "</style>\n",
       "<table border=\"1\" class=\"dataframe\">\n",
       "  <thead>\n",
       "    <tr style=\"text-align: right;\">\n",
       "      <th></th>\n",
       "      <th>rated</th>\n",
       "      <th>created_at</th>\n",
       "      <th>last_move_at</th>\n",
       "      <th>turns</th>\n",
       "      <th>white_rating</th>\n",
       "      <th>black_rating</th>\n",
       "      <th>opening_ply</th>\n",
       "      <th>duration</th>\n",
       "      <th>black</th>\n",
       "      <th>draw</th>\n",
       "      <th>white</th>\n",
       "    </tr>\n",
       "  </thead>\n",
       "  <tbody>\n",
       "    <tr>\n",
       "      <th>rated</th>\n",
       "      <td>1.000000</td>\n",
       "      <td>-0.001171</td>\n",
       "      <td>-0.001176</td>\n",
       "      <td>0.090698</td>\n",
       "      <td>0.003284</td>\n",
       "      <td>0.032655</td>\n",
       "      <td>-0.001906</td>\n",
       "      <td>-0.027952</td>\n",
       "      <td>0.012417</td>\n",
       "      <td>-0.027358</td>\n",
       "      <td>-0.000743</td>\n",
       "    </tr>\n",
       "    <tr>\n",
       "      <th>created_at</th>\n",
       "      <td>-0.001171</td>\n",
       "      <td>1.000000</td>\n",
       "      <td>1.000000</td>\n",
       "      <td>0.083185</td>\n",
       "      <td>0.116170</td>\n",
       "      <td>0.133316</td>\n",
       "      <td>0.100201</td>\n",
       "      <td>-0.022691</td>\n",
       "      <td>0.013830</td>\n",
       "      <td>0.024690</td>\n",
       "      <td>-0.024260</td>\n",
       "    </tr>\n",
       "    <tr>\n",
       "      <th>last_move_at</th>\n",
       "      <td>-0.001176</td>\n",
       "      <td>1.000000</td>\n",
       "      <td>1.000000</td>\n",
       "      <td>0.083196</td>\n",
       "      <td>0.116172</td>\n",
       "      <td>0.133318</td>\n",
       "      <td>0.100203</td>\n",
       "      <td>-0.022522</td>\n",
       "      <td>0.013829</td>\n",
       "      <td>0.024694</td>\n",
       "      <td>-0.024261</td>\n",
       "    </tr>\n",
       "    <tr>\n",
       "      <th>turns</th>\n",
       "      <td>0.090698</td>\n",
       "      <td>0.083185</td>\n",
       "      <td>0.083196</td>\n",
       "      <td>1.000000</td>\n",
       "      <td>0.129753</td>\n",
       "      <td>0.160467</td>\n",
       "      <td>0.055999</td>\n",
       "      <td>0.060526</td>\n",
       "      <td>0.007019</td>\n",
       "      <td>0.170648</td>\n",
       "      <td>-0.079486</td>\n",
       "    </tr>\n",
       "    <tr>\n",
       "      <th>white_rating</th>\n",
       "      <td>0.003284</td>\n",
       "      <td>0.116170</td>\n",
       "      <td>0.116172</td>\n",
       "      <td>0.129753</td>\n",
       "      <td>1.000000</td>\n",
       "      <td>0.634171</td>\n",
       "      <td>0.277379</td>\n",
       "      <td>0.010905</td>\n",
       "      <td>-0.148371</td>\n",
       "      <td>0.045114</td>\n",
       "      <td>0.128577</td>\n",
       "    </tr>\n",
       "  </tbody>\n",
       "</table>\n",
       "</div>"
      ],
      "text/plain": [
       "                 rated  created_at  last_move_at     turns  white_rating  \\\n",
       "rated         1.000000   -0.001171     -0.001176  0.090698      0.003284   \n",
       "created_at   -0.001171    1.000000      1.000000  0.083185      0.116170   \n",
       "last_move_at -0.001176    1.000000      1.000000  0.083196      0.116172   \n",
       "turns         0.090698    0.083185      0.083196  1.000000      0.129753   \n",
       "white_rating  0.003284    0.116170      0.116172  0.129753      1.000000   \n",
       "\n",
       "              black_rating  opening_ply  duration     black      draw  \\\n",
       "rated             0.032655    -0.001906 -0.027952  0.012417 -0.027358   \n",
       "created_at        0.133316     0.100201 -0.022691  0.013830  0.024690   \n",
       "last_move_at      0.133318     0.100203 -0.022522  0.013829  0.024694   \n",
       "turns             0.160467     0.055999  0.060526  0.007019  0.170648   \n",
       "white_rating      0.634171     0.277379  0.010905 -0.148371  0.045114   \n",
       "\n",
       "                 white  \n",
       "rated        -0.000743  \n",
       "created_at   -0.024260  \n",
       "last_move_at -0.024261  \n",
       "turns        -0.079486  \n",
       "white_rating  0.128577  "
      ]
     },
     "execution_count": 19,
     "metadata": {},
     "output_type": "execute_result"
    }
   ],
   "source": [
    "df.corr().head()"
   ]
  },
  {
   "cell_type": "code",
   "execution_count": 20,
   "metadata": {},
   "outputs": [],
   "source": [
    "#duration segmentation? --> long, medium, short"
   ]
  },
  {
   "cell_type": "code",
   "execution_count": 21,
   "metadata": {},
   "outputs": [],
   "source": [
    "#interesting games analysis article: https://medium.com/@bert_miller/using-python-to-build-a-statistical-model-to-predict-the-winner-of-a-professional-game-of-dota-6dbdc4255949"
   ]
  },
  {
   "cell_type": "code",
   "execution_count": 22,
   "metadata": {},
   "outputs": [
    {
     "data": {
      "image/png": "[encoded data removed]",
      "text/plain": [
       "<Figure size 432x288 with 2 Axes>"
      ]
     },
     "metadata": {
      "needs_background": "light"
     },
     "output_type": "display_data"
    }
   ],
   "source": [
    "#correlation heatmap\n",
    "drop_cols = ['id','created_at', 'last_move_at', 'white_id', 'black_id', 'opening_name', 'black', 'white', 'draw']\n",
    "df2 = df.copy()\n",
    "df2.drop(columns=drop_cols, inplace=True)\n",
    "heatmap = sns.heatmap(df2.corr())\n",
    "#interesting: number of turns is associated with white and black ranking and opening_ply is closely associated with the player ranking\n",
    "#players of similar ranks play other players of similar ranks"
   ]
  },
  {
   "cell_type": "markdown",
   "metadata": {},
   "source": [
    "# logistic regression model"
   ]
  },
  {
   "cell_type": "code",
   "execution_count": null,
   "metadata": {},
   "outputs": [],
   "source": [
    "#helpful resources:\n",
    "from IPython.core.display import display, HTML\n",
    "display(HTML(\"\"\"<a href=\"https://towardsdatascience.com/logistic-regression-detailed-overview-46c4da4303bc\">logistic regression</a>\"\"\"))\n",
    "display(HTML(\"\"\"<a href=\"https://github.com/SSaishruthi/LogisticRegression_Vectorized_Implementation/blob/master/Logistic_Regression.ipynb\">logistic regression git ex 1</a>\"\"\"))\n",
    "display(HTML(\"\"\"<a href=\"https://github.com/codebasics/py/blob/master/ML/7_logistic_reg/Exercise/7_logistic_regression_exercise.ipynb\n",
    "\">logistic regression git ex 2</a>\"\"\"))\n",
    "display(HTML(\"\"\"<a href=\"https://towardsdatascience.com/predicting-the-outcome-of-nba-games-with-machine-learning-a810bb768f20\">NBA games</a>\"\"\"))\n",
    "\n",
    "from IPython.display import YouTubeVideo\n",
    "YouTubeVideo('zM4VZR0px8E', width=800, height=400)"
   ]
  },
  {
   "cell_type": "code",
   "execution_count": null,
   "metadata": {},
   "outputs": [],
   "source": [
    "#count of draws is a small portion of winning outcomes\n",
    "df['winner'].value_counts()\n",
    "(950 / (10001+9107+950))* 100\n",
    "\n",
    "#create a new data frame, dropping the draw games to more easily be able to use logistic regression\n",
    "df_black_white = df[df.winner != 'draw'].copy()\n",
    "df_black_white = df_black_white[df_black_white.rated == 1].copy()\n",
    "\n",
    "#drop columns not necessary for analysis\n",
    "drop_cols = ['id','created_at', 'last_move_at', 'white_id', 'black_id', 'opening_name', 'black', 'white', 'draw', 'rated']\n",
    "df_black_white.drop(columns=drop_cols, inplace=True)\n",
    "df_black_white"
   ]
  },
  {
   "cell_type": "code",
   "execution_count": null,
   "metadata": {},
   "outputs": [],
   "source": [
    "#convert columns with text or different discrete values into dummy columns\n",
    "dum_cols = ['victory_status', 'increment_code', 'opening_eco']\n",
    "for col in dum_cols:\n",
    "    dummies = pd.get_dummies(df_black_white[col], prefix=col)\n",
    "    df_black_white = pd.concat([df_black_white, dummies], axis=1)\n",
    "df_black_white.drop(columns=dum_cols, inplace=True)"
   ]
  },
  {
   "cell_type": "code",
   "execution_count": null,
   "metadata": {},
   "outputs": [],
   "source": [
    "#replace winner and related columns with discrete number expressions of variable\n",
    "df_black_white['winner'].replace(['white', 'black'], [0,1], inplace=True)\n",
    "#df_black_white['rated'].replace([False, True], [0,1], inplace=True)\n",
    "df_black_white"
   ]
  },
  {
   "cell_type": "code",
   "execution_count": null,
   "metadata": {},
   "outputs": [],
   "source": [
    "#scaling turns, duration, rating\n",
    "from sklearn.preprocessing import StandardScaler\n",
    "sc = StandardScaler()\n",
    "scaled_col = ['turns', 'duration', 'white_rating', 'black_rating']\n",
    "for col in scaled_col:\n",
    "    df_black_white[col] = sc.fit_transform(df_black_white[col].values.reshape(-1,1))"
   ]
  },
  {
   "cell_type": "code",
   "execution_count": null,
   "metadata": {},
   "outputs": [],
   "source": [
    "#define target variable for regression\n",
    "y = df_black_white.winner"
   ]
  },
  {
   "cell_type": "code",
   "execution_count": null,
   "metadata": {},
   "outputs": [],
   "source": [
    "#define independent variables for regression\n",
    "df_black_white.drop(columns = 'winner', inplace=True)"
   ]
  },
  {
   "cell_type": "code",
   "execution_count": null,
   "metadata": {},
   "outputs": [],
   "source": [
    "#split dataset into training and testing data\n",
    "from sklearn.model_selection import train_test_split\n",
    "X_train, X_test, y_train, y_test = train_test_split(df_black_white,y,train_size=0.85, random_state=100)"
   ]
  },
  {
   "cell_type": "code",
   "execution_count": null,
   "metadata": {},
   "outputs": [],
   "source": [
    "from sklearn.linear_model import LogisticRegression\n",
    "model = LogisticRegression(max_iter=1000)\n",
    "model.fit(X_train, y_train)\n",
    "model.predict(X_test)\n",
    "model.score(X_test,y_test)"
   ]
  },
  {
   "cell_type": "code",
   "execution_count": null,
   "metadata": {},
   "outputs": [],
   "source": [
    "#feature importance\n",
    "from matplotlib import pyplot\n",
    "# get importance\n",
    "importance = model.coef_[0]\n",
    "# summarize feature importance\n",
    "for i,v in enumerate(importance):\n",
    "\tprint('Feature: %0d, Score: %.5f' % (i,v))\n",
    "# plot feature importance\n",
    "pyplot.bar([x for x in range(len(importance))], importance)\n",
    "pyplot.show()\n",
    "#want to try to rank these importance scores and identify what are the most important features\n",
    "#source: https://machinelearningmastery.com/calculate-feature-importance-with-python/"
   ]
  },
  {
   "cell_type": "markdown",
   "metadata": {},
   "source": [
    "# random forest model"
   ]
  },
  {
   "cell_type": "code",
   "execution_count": null,
   "metadata": {},
   "outputs": [],
   "source": [
    "display(HTML(\"\"\"<a href=\"https://medium.com/@hjhuney/implementing-a-random-forest-classification-model-in-python-583891c99652\">random forest medium article</a>\"\"\"))"
   ]
  },
  {
   "cell_type": "code",
   "execution_count": null,
   "metadata": {},
   "outputs": [],
   "source": [
    "from sklearn.model_selection import train_test_split\n",
    "# implementing train-test-split\n",
    "X_train, X_test, y_train, y_test = train_test_split(df_black_white, y, test_size=0.33, random_state=66)"
   ]
  },
  {
   "cell_type": "code",
   "execution_count": null,
   "metadata": {},
   "outputs": [],
   "source": [
    "from sklearn import model_selection\n",
    "from sklearn.ensemble import RandomForestClassifier\n",
    "rfc = RandomForestClassifier()\n",
    "rfc.fit(X_train,y_train)\n",
    "rfc_predict = rfc.predict(X_test)"
   ]
  },
  {
   "cell_type": "code",
   "execution_count": null,
   "metadata": {},
   "outputs": [],
   "source": [
    "from sklearn.model_selection import cross_val_score\n",
    "from sklearn.metrics import classification_report, confusion_matrix\n",
    "rfc_cv_score = cross_val_score(rfc, df_black_white, y, cv=10, scoring='roc_auc')"
   ]
  },
  {
   "cell_type": "code",
   "execution_count": null,
   "metadata": {
    "scrolled": false
   },
   "outputs": [],
   "source": [
    "print(\"=== Confusion Matrix ===\")\n",
    "print(confusion_matrix(y_test, rfc_predict))\n",
    "print('\\n')\n",
    "print(\"=== Classification Report ===\")\n",
    "print(classification_report(y_test, rfc_predict))\n",
    "print('\\n')\n",
    "print(\"=== All AUC Scores ===\")\n",
    "print(rfc_cv_score)\n",
    "print('\\n')\n",
    "print(\"=== Mean AUC Score ===\")\n",
    "print(\"Mean AUC Score - Random Forest: \", rfc_cv_score.mean())"
   ]
  },
  {
   "cell_type": "markdown",
   "metadata": {},
   "source": [
    "# openings meta statistics"
   ]
  },
  {
   "cell_type": "code",
   "execution_count": 23,
   "metadata": {},
   "outputs": [],
   "source": [
    "opdf = pd.DataFrame(columns=['Opening', 'Pick %', 'White Win %', 'Black Win %'])"
   ]
  },
  {
   "cell_type": "code",
   "execution_count": 42,
   "metadata": {},
   "outputs": [
    {
     "data": {
      "text/plain": [
       "52.72727272727272"
      ]
     },
     "execution_count": 42,
     "metadata": {},
     "output_type": "execute_result"
    }
   ],
   "source": [
    "df = pd.read_csv('games.csv')\n",
    "openings = df['opening_eco']\n",
    "#opening_counts = df['opening_eco'].value_counts()\n",
    "#open30 = opening_counts[0:31]\n",
    "#open30\n",
    "#len(df[df['opening_eco']=='A00'])\n",
    "#len(df['opening_eco'])\n",
    "black_df = df.copy()\n",
    "black_df = black_df[black_df['winner'] == 'black']\n",
    "len(new_df[new_df['opening_eco']=='A00'])\n",
    "(len(black_df[black_df['opening_eco']=='D10'])) / len(df[df['opening_eco']=='D10'])*100"
   ]
  },
  {
   "cell_type": "code",
   "execution_count": 39,
   "metadata": {},
   "outputs": [],
   "source": [
    "for opening in openings:\n",
    "    eco_name = opening\n",
    "    eco_pick_perc = (len(df[df['opening_eco']==opening])) / len(df['opening_eco'])*100\n",
    "    \n",
    "    black_df = df.copy()\n",
    "    black_df = black_df[black_df['winner'] == 'black']\n",
    "    eco_win_perc_black = (len(black_df[black_df['opening_eco']==opening])) / len(df[df['opening_eco']==opening])*100\n",
    "    \n",
    "    white_df = df.copy()\n",
    "    white_df = white_df[white_df['winner'] == 'white']\n",
    "    eco_win_perc_white = (len(white_df[white_df['opening_eco']==opening])) / len(df[df['opening_eco']==opening])*100\n",
    "    \n",
    "    opdf_df = pd.DataFrame([[eco_name, eco_pick_perc, eco_win_perc_black, eco_win_perc_white]], columns=['Opening', 'Pick %', 'White Win %', 'Black Win %'])\n",
    "    opdf = opdf.append(opdf_df, ignore_index=True)"
   ]
  },
  {
   "cell_type": "code",
   "execution_count": 40,
   "metadata": {},
   "outputs": [
    {
     "data": {
      "text/html": [
       "<div>\n",
       "<style scoped>\n",
       "    .dataframe tbody tr th:only-of-type {\n",
       "        vertical-align: middle;\n",
       "    }\n",
       "\n",
       "    .dataframe tbody tr th {\n",
       "        vertical-align: top;\n",
       "    }\n",
       "\n",
       "    .dataframe thead th {\n",
       "        text-align: right;\n",
       "    }\n",
       "</style>\n",
       "<table border=\"1\" class=\"dataframe\">\n",
       "  <thead>\n",
       "    <tr style=\"text-align: right;\">\n",
       "      <th></th>\n",
       "      <th>Opening</th>\n",
       "      <th>Pick %</th>\n",
       "      <th>White Win %</th>\n",
       "      <th>Black Win %</th>\n",
       "    </tr>\n",
       "  </thead>\n",
       "  <tbody>\n",
       "    <tr>\n",
       "      <th>0</th>\n",
       "      <td>D10</td>\n",
       "      <td>0.005484</td>\n",
       "      <td>NaN</td>\n",
       "      <td>NaN</td>\n",
       "    </tr>\n",
       "    <tr>\n",
       "      <th>1</th>\n",
       "      <td>B00</td>\n",
       "      <td>0.030462</td>\n",
       "      <td>NaN</td>\n",
       "      <td>NaN</td>\n",
       "    </tr>\n",
       "    <tr>\n",
       "      <th>2</th>\n",
       "      <td>C20</td>\n",
       "      <td>0.033652</td>\n",
       "      <td>NaN</td>\n",
       "      <td>NaN</td>\n",
       "    </tr>\n",
       "    <tr>\n",
       "      <th>3</th>\n",
       "      <td>D02</td>\n",
       "      <td>0.021637</td>\n",
       "      <td>NaN</td>\n",
       "      <td>NaN</td>\n",
       "    </tr>\n",
       "    <tr>\n",
       "      <th>4</th>\n",
       "      <td>C41</td>\n",
       "      <td>0.034450</td>\n",
       "      <td>NaN</td>\n",
       "      <td>NaN</td>\n",
       "    </tr>\n",
       "    <tr>\n",
       "      <th>...</th>\n",
       "      <td>...</td>\n",
       "      <td>...</td>\n",
       "      <td>...</td>\n",
       "      <td>...</td>\n",
       "    </tr>\n",
       "    <tr>\n",
       "      <th>40111</th>\n",
       "      <td>A80</td>\n",
       "      <td>0.274205</td>\n",
       "      <td>41.8182</td>\n",
       "      <td>52.7273</td>\n",
       "    </tr>\n",
       "    <tr>\n",
       "      <th>40112</th>\n",
       "      <td>A41</td>\n",
       "      <td>0.373916</td>\n",
       "      <td>40</td>\n",
       "      <td>60</td>\n",
       "    </tr>\n",
       "    <tr>\n",
       "      <th>40113</th>\n",
       "      <td>D00</td>\n",
       "      <td>3.684315</td>\n",
       "      <td>48.7145</td>\n",
       "      <td>46.1434</td>\n",
       "    </tr>\n",
       "    <tr>\n",
       "      <th>40114</th>\n",
       "      <td>B07</td>\n",
       "      <td>1.515605</td>\n",
       "      <td>38.4868</td>\n",
       "      <td>55.5921</td>\n",
       "    </tr>\n",
       "    <tr>\n",
       "      <th>40115</th>\n",
       "      <td>D00</td>\n",
       "      <td>3.684315</td>\n",
       "      <td>48.7145</td>\n",
       "      <td>46.1434</td>\n",
       "    </tr>\n",
       "  </tbody>\n",
       "</table>\n",
       "<p>40116 rows × 4 columns</p>\n",
       "</div>"
      ],
      "text/plain": [
       "      Opening    Pick % White Win % Black Win %\n",
       "0         D10  0.005484         NaN         NaN\n",
       "1         B00  0.030462         NaN         NaN\n",
       "2         C20  0.033652         NaN         NaN\n",
       "3         D02  0.021637         NaN         NaN\n",
       "4         C41  0.034450         NaN         NaN\n",
       "...       ...       ...         ...         ...\n",
       "40111     A80  0.274205     41.8182     52.7273\n",
       "40112     A41  0.373916          40          60\n",
       "40113     D00  3.684315     48.7145     46.1434\n",
       "40114     B07  1.515605     38.4868     55.5921\n",
       "40115     D00  3.684315     48.7145     46.1434\n",
       "\n",
       "[40116 rows x 4 columns]"
      ]
     },
     "execution_count": 40,
     "metadata": {},
     "output_type": "execute_result"
    }
   ],
   "source": [
    "opdf"
   ]
  },
  {
   "cell_type": "code",
   "execution_count": null,
   "metadata": {},
   "outputs": [],
   "source": [
    "https://plotly.com/python/table/"
   ]
  }
 ],
 "metadata": {
  "kernelspec": {
   "display_name": "Python 3",
   "language": "python",
   "name": "python3"
  }
 },
 "nbformat": 4,
 "nbformat_minor": 4
}
